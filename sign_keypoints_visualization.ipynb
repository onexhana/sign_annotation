{
 "cells": [
  {
   "cell_type": "markdown",
   "id": "0233f771",
   "metadata": {},
   "source": [
    "# 👋 수어 인식 키포인트 추출 및 시각화\n",
    "MediaPipe Holistic을 사용해 수어 영상에서 키포인트를 추출하고, 시각화 결과를 JSON 및 영상으로 저장합니다."
   ]
  },
  {
   "cell_type": "code",
   "execution_count": null,
   "id": "c1dc1fbf",
   "metadata": {},
   "outputs": [],
   "source": [
    "import cv2\n",
    "import mediapipe as mp\n",
    "import json\n",
    "import os\n",
    "import glob\n",
    "\n",
    "# 원본 영상 경로 및 출력 파일 설정\n",
    "video_path = 'like.mkv'\n",
    "base_name = os.path.splitext(os.path.basename(video_path))[0]\n",
    "\n",
    "output_image_dir = 'output_frames'\n",
    "output_json_path = f'{base_name}_keypoints.json'\n",
    "output_video_path = f'{base_name}_result.mp4'\n",
    "comparison_video_path = f'{base_name}_comparison.mp4'\n",
    "\n",
    "os.makedirs(output_image_dir, exist_ok=True)"
   ]
  },
  {
   "cell_type": "markdown",
   "id": "1bcbef8d",
   "metadata": {},
   "source": [
    "## 📌 MediaPipe 설정 및 시각화 스타일 정의"
   ]
  },
  {
   "cell_type": "code",
   "execution_count": null,
   "id": "184b299f",
   "metadata": {},
   "outputs": [],
   "source": [
    "mp_holistic = mp.solutions.holistic\n",
    "mp_drawing = mp.solutions.drawing_utils\n",
    "mp_face_mesh = mp.solutions.face_mesh\n",
    "\n",
    "holistic = mp_holistic.Holistic(static_image_mode=False)\n",
    "\n",
    "red_spec = mp_drawing.DrawingSpec(color=(0, 0, 255), thickness=2, circle_radius=2)   # 손: 빨강\n",
    "blue_spec = mp_drawing.DrawingSpec(color=(255, 0, 0), thickness=1, circle_radius=1)  # 얼굴: 파랑"
   ]
  },
  {
   "cell_type": "markdown",
   "id": "6ca716de",
   "metadata": {},
   "source": [
    "## 🎞️ 영상 열기 및 키포인트 추출 함수 정의"
   ]
  },
  {
   "cell_type": "code",
   "execution_count": null,
   "id": "28196233",
   "metadata": {},
   "outputs": [],
   "source": [
    "cap = cv2.VideoCapture(video_path)\n",
    "frame_data = {}\n",
    "frame_idx = 0\n",
    "\n",
    "def extract_landmarks(landmarks):\n",
    "    if landmarks:\n",
    "        return [[lm.x, lm.y, lm.z, lm.visibility if hasattr(lm, \"visibility\") else 1.0]\n",
    "                for lm in landmarks.landmark]\n",
    "    else:\n",
    "        return []"
   ]
  },
  {
   "cell_type": "markdown",
   "id": "5324965b",
   "metadata": {},
   "source": [
    "## 🔁 프레임 반복 처리 및 시각화 저장"
   ]
  },
  {
   "cell_type": "code",
   "execution_count": null,
   "id": "ec88c6ef",
   "metadata": {},
   "outputs": [],
   "source": [
    "while cap.isOpened():\n",
    "    ret, frame = cap.read()\n",
    "    if not ret:\n",
    "        break\n",
    "\n",
    "    image = cv2.cvtColor(frame, cv2.COLOR_BGR2RGB)\n",
    "    results = holistic.process(image)\n",
    "\n",
    "    keypoints = {\n",
    "        \"pose\": extract_landmarks(results.pose_landmarks),\n",
    "        \"face\": extract_landmarks(results.face_landmarks),\n",
    "        \"left_hand\": extract_landmarks(results.left_hand_landmarks),\n",
    "        \"right_hand\": extract_landmarks(results.right_hand_landmarks),\n",
    "    }\n",
    "    frame_data[f'frame_{frame_idx:05d}'] = keypoints\n",
    "\n",
    "    image_bgr = cv2.cvtColor(image, cv2.COLOR_RGB2BGR)\n",
    "\n",
    "    if results.pose_landmarks:\n",
    "        mp_drawing.draw_landmarks(image_bgr, results.pose_landmarks, mp_holistic.POSE_CONNECTIONS)\n",
    "    if results.face_landmarks:\n",
    "        mp_drawing.draw_landmarks(image_bgr, results.face_landmarks,\n",
    "                                  mp_face_mesh.FACEMESH_TESSELATION,\n",
    "                                  landmark_drawing_spec=blue_spec,\n",
    "                                  connection_drawing_spec=blue_spec)\n",
    "    if results.left_hand_landmarks:\n",
    "        mp_drawing.draw_landmarks(image_bgr, results.left_hand_landmarks,\n",
    "                                  mp_holistic.HAND_CONNECTIONS,\n",
    "                                  landmark_drawing_spec=red_spec,\n",
    "                                  connection_drawing_spec=red_spec)\n",
    "    if results.right_hand_landmarks:\n",
    "        mp_drawing.draw_landmarks(image_bgr, results.right_hand_landmarks,\n",
    "                                  mp_holistic.HAND_CONNECTIONS,\n",
    "                                  landmark_drawing_spec=red_spec,\n",
    "                                  connection_drawing_spec=red_spec)\n",
    "\n",
    "    frame_filename = os.path.join(output_image_dir, f'frame_{frame_idx:05d}.png')\n",
    "    cv2.imwrite(frame_filename, image_bgr)\n",
    "    frame_idx += 1"
   ]
  },
  {
   "cell_type": "markdown",
   "id": "be2641d5",
   "metadata": {},
   "source": [
    "## 💾 JSON 저장 및 결과 영상 생성"
   ]
  },
  {
   "cell_type": "code",
   "execution_count": null,
   "id": "5107a2ec",
   "metadata": {},
   "outputs": [],
   "source": [
    "cap.release()\n",
    "holistic.close()\n",
    "\n",
    "with open(output_json_path, 'w') as f:\n",
    "    json.dump(frame_data, f, indent=2)\n",
    "\n",
    "print(f\"✅ 키포인트 JSON 저장 완료: {output_json_path}\")\n",
    "\n",
    "image_files = sorted(glob.glob(os.path.join(output_image_dir, '*.png')))\n",
    "if not image_files:\n",
    "    raise ValueError(\"❌ output_frames 폴더에 이미지가 없습니다!\")\n",
    "\n",
    "first_image = cv2.imread(image_files[0])\n",
    "height, width, _ = first_image.shape\n",
    "fps = 30\n",
    "\n",
    "fourcc = cv2.VideoWriter_fourcc(*'mp4v')\n",
    "video_writer = cv2.VideoWriter(output_video_path, fourcc, fps, (width, height))\n",
    "\n",
    "for file in image_files:\n",
    "    img = cv2.imread(file)\n",
    "    video_writer.write(img)\n",
    "\n",
    "video_writer.release()\n",
    "print(f\"🎬 시각화 영상 저장 완료: {output_video_path}\")"
   ]
  },
  {
   "cell_type": "markdown",
   "id": "bd1f7e5a",
   "metadata": {},
   "source": [
    "## 🎥 원본 + 시각화 비교 영상 만들기"
   ]
  },
  {
   "cell_type": "code",
   "execution_count": null,
   "id": "12947efc",
   "metadata": {},
   "outputs": [],
   "source": [
    "cap_orig = cv2.VideoCapture(video_path)\n",
    "cap_vis = cv2.VideoCapture(output_video_path)\n",
    "\n",
    "fourcc = cv2.VideoWriter_fourcc(*'mp4v')\n",
    "out = cv2.VideoWriter(comparison_video_path, fourcc, fps, (width * 2, height))\n",
    "\n",
    "while True:\n",
    "    ret1, frame_orig = cap_orig.read()\n",
    "    ret2, frame_vis = cap_vis.read()\n",
    "    if not ret1 or not ret2:\n",
    "        break\n",
    "\n",
    "    combined = cv2.hconcat([frame_orig, frame_vis])\n",
    "    out.write(combined)\n",
    "\n",
    "cap_orig.release()\n",
    "cap_vis.release()\n",
    "out.release()\n",
    "\n",
    "print(f\"📹 비교 영상 저장 완료: {comparison_video_path}\")"
   ]
  }
 ],
 "metadata": {
  "language_info": {
   "name": "python"
  }
 },
 "nbformat": 4,
 "nbformat_minor": 5
}
